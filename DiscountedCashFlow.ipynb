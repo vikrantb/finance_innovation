{
  "nbformat": 4,
  "nbformat_minor": 0,
  "metadata": {
    "colab": {
      "provenance": [],
      "collapsed_sections": [],
      "include_colab_link": true
    },
    "kernelspec": {
      "name": "python3",
      "display_name": "Python 3"
    },
    "language_info": {
      "name": "python"
    }
  },
  "cells": [
    {
      "cell_type": "markdown",
      "metadata": {
        "id": "view-in-github",
        "colab_type": "text"
      },
      "source": [
        "<a href=\"https://colab.research.google.com/github/vikrantb/finance_innovation/blob/main/DiscountedCashFlow.ipynb\" target=\"_parent\"><img src=\"https://colab.research.google.com/assets/colab-badge.svg\" alt=\"Open In Colab\"/></a>"
      ]
    },
    {
      "cell_type": "markdown",
      "source": [
        "**Understanding the effect of financial model parameters on the Net Present value of the NetPhone project**"
      ],
      "metadata": {
        "id": "pCtK5-EFGayt"
      }
    },
    {
      "cell_type": "code",
      "source": [
        "#@title\n",
        "import numpy as np\n",
        "import pandas as pd\n",
        "import matplotlib.pyplot as plt\n",
        "from scipy import interpolate\n"
      ],
      "metadata": {
        "cellView": "form",
        "id": "nHJ988MnGcDb"
      },
      "execution_count": null,
      "outputs": []
    },
    {
      "cell_type": "code",
      "source": [
        "#@title\n",
        "def add_data(df, data, name):\n",
        "  df.loc[len(df)] = data\n",
        "  #Rename Index\n",
        "  df.rename({df.index[-1]: name}, inplace=True)\n",
        "  return df\n",
        "\n"
      ],
      "metadata": {
        "cellView": "form",
        "id": "i6apX-i_oi87"
      },
      "execution_count": null,
      "outputs": []
    },
    {
      "cell_type": "code",
      "source": [
        "#@title\n",
        "def fcn_get_npv(cost_of_capital=2, final_market_penetration=20):\n",
        "\n",
        "  #Set variables\n",
        "  # final_market_penetration = 20 #@param {type:\"slider\", min:0, max:100, step:1}\n",
        "  num_years = 5\n",
        "\n",
        "  market_size = 100\n",
        "\n",
        "  market_size_vals = market_size * np.ones((1,num_years))\n",
        "  yearly_penetration_rate = np.linspace(0,final_market_penetration, num_years)\n",
        "  cumulative_units_sold  = (yearly_penetration_rate/100) * market_size_vals;\n",
        "\n",
        "\n",
        "  vals = np.vstack((market_size_vals,\n",
        "                    yearly_penetration_rate, \n",
        "                    cumulative_units_sold))\n",
        "\n",
        "  # Create the names:\n",
        "  list_names=[]\n",
        "  for i in range(num_years):\n",
        "    list_names.append(f\"Year_{i}\")\n",
        "\n",
        "  row_names = [\"Market Size\",\"Market Penetration Rate\", \"Cumulative Units Sold\"]\n",
        "  # print(list_names)\n",
        "\n",
        "  df = pd.DataFrame(vals)\n",
        "  df.columns = list_names\n",
        "  df.index = row_names\n",
        "  # print(\"Resulting Discounted Cash Flow data:\\n\")\n",
        "\n",
        "  #Annual units sold\n",
        "  annual_units_sold = np.concatenate((np.array([0,]), np.diff(cumulative_units_sold)[0]))\n",
        "\n",
        "  df.loc[len(df)] = annual_units_sold\n",
        "  #Rename Index\n",
        "  df.rename({df.index[-1]: 'Annual Units Sold'}, inplace=True)\n",
        "\n",
        "\n",
        "  #Avg Selling price / unit\n",
        "  avg_price = 62.5\n",
        "  avg_price_vals = avg_price * np.ones(num_years)\n",
        "  # print(avg_price_vals)\n",
        "\n",
        "  df.loc[len(df)] = avg_price_vals\n",
        "  #Rename Index\n",
        "  df.rename({df.index[-1]: 'Average Price/Unit'}, inplace=True)\n",
        "\n",
        "\n",
        "  #Qcom royalty share percent\n",
        "  qcom_royalty_percent = 20\n",
        "  qcom_royalty_vals = (qcom_royalty_percent/100) * np.ones(num_years)\n",
        "  # print(rvals)\n",
        "\n",
        "  df.loc[len(df)] = qcom_royalty_vals\n",
        "  #Rename Index\n",
        "  df.rename({df.index[-1]: 'Qcom royalty share Percent'}, inplace=True)\n",
        "\n",
        "  #Netphone sales\n",
        "  netphone_sales = annual_units_sold * avg_price_vals* qcom_royalty_vals\n",
        "  # print(netphone_sales)\n",
        "\n",
        "  df.loc[len(df)] = netphone_sales\n",
        "  #Rename Index\n",
        "  # df.rename(index={len(df)-1: 'Netphone Sales'})\n",
        "  df.rename({df.index[-1]: 'Netphone Sales'}, inplace=True)\n",
        "\n",
        "\n",
        "  #Cannibalization Rate\n",
        "  cannibalization_rate = 40\n",
        "\n",
        "  #Lost Units\n",
        "  cann_units = -1*(cannibalization_rate/100) * annual_units_sold\n",
        "  # print(f'CannibalizeUnits: {cann_units}')\n",
        "  # Avg qcom price/unit\n",
        "  avg_qcom_cann_unit_cost = 5\n",
        "\n",
        "  # cannibalized sales\n",
        "  cann_sales = cann_units * avg_qcom_cann_unit_cost\n",
        "\n",
        "  # Total sales\n",
        "  total_sales = netphone_sales + cann_sales\n",
        "  # print(f'total_sales: {total_sales}')\n",
        "  df = add_data(df, total_sales, \"Total Sales\")\n",
        "\n",
        "\n",
        "  # Cost of sales\n",
        "  NetPhone_unit_cost = 6\n",
        "  NetPhone_COGS = -1*NetPhone_unit_cost * annual_units_sold\n",
        "\n",
        "  OldProduct_unit_cost = 3\n",
        "  Old_COGS = -1*OldProduct_unit_cost * cann_units\n",
        "\n",
        "  cost_of_sales = NetPhone_COGS + Old_COGS\n",
        "  # print(f'NetPhone_COGS:{NetPhone_COGS}, Old_COGS:{Old_COGS}, cost_of_sales: {cost_of_sales}')\n",
        "\n",
        "  df = add_data(df, cost_of_sales, \"Cost Of Sales\")\n",
        "\n",
        "  #Gross Profit\n",
        "  gross_profit = total_sales + cost_of_sales\n",
        "  df = add_data(df, gross_profit, \"Gross Profit\")\n",
        "\n",
        "  # HW Expense\n",
        "  hw_expense = -10\n",
        "\n",
        "  # SW Expense\n",
        "  sw_expense = -12.5\n",
        "\n",
        "  #Total Operating Expense\n",
        "  total_rnd_expense = hw_expense + sw_expense\n",
        "  yearly_rnd_expense = np.zeros(num_years)\n",
        "  yearly_rnd_expense[0] = total_rnd_expense\n",
        "  df = add_data(df, yearly_rnd_expense, \"R&D Expense\")\n",
        "\n",
        "  #SGA\n",
        "  sga_expense = -0.5\n",
        "  yearly_sga_expense =  -2.5* np.ones(num_years)\n",
        "  yearly_sga_expense[0] = sga_expense\n",
        "  df = add_data(df, yearly_sga_expense, \"SG&A Expense\")\n",
        "\n",
        "  lab_equipment = -20\n",
        "  capex = np.zeros(num_years)\n",
        "  capex[0] = lab_equipment\n",
        "  df = add_data(df, capex, \"Capex\")\n",
        "  # print(f\"Capex: {capex}\")\n",
        "\n",
        "  #Depreciation\n",
        "  depreciation = np.ones(num_years) * (lab_equipment/ (num_years-1))\n",
        "  depreciation[0] = 0\n",
        "  df = add_data(df, depreciation, \"Depreciation\")\n",
        "\n",
        "  # Operating Income/ EBIT\n",
        "  ebit = gross_profit + yearly_rnd_expense + yearly_sga_expense + depreciation\n",
        "  df = add_data(df, ebit, \"EBIT\")\n",
        "\n",
        "  # Taxes \n",
        "\n",
        "  tax_rate = 40\n",
        "  yearly_taxes = -1*(tax_rate/100) * ebit\n",
        "  df = add_data(df, yearly_taxes, \"Taxes\")\n",
        "\n",
        "  # Net Income\n",
        "  net_income = ebit + yearly_taxes\n",
        "  df = add_data(df, net_income, \"Net Income\")\n",
        "\n",
        "\n",
        "  #Working Capital Forecast\n",
        "  # Receivables (% Sales)\n",
        "  receivables = 16\n",
        "  yearly_receivables = (receivables/100) * total_sales\n",
        "  df = add_data(df, yearly_receivables, \"Receivables\")\n",
        "\n",
        "  # Payables (% COGS)\n",
        "  payables = 10\n",
        "  yearly_payables = (payables/100) * cost_of_sales\n",
        "  df = add_data(df, yearly_payables, \"Payables\")\n",
        "\n",
        "  # # Inventory (% next year COGS)\n",
        "  # inventory = 0 #@param {type: \"slider\"}\n",
        "  # yearly_inventory = -1*(inventory/100) * total_sales\n",
        "\n",
        "  # #Net Working Capital\n",
        "  df['Year_5']= 0\n",
        "  # print(df)\n",
        "\n",
        "  net_working_capital = df.loc['Receivables'] + df.loc['Payables']\n",
        "  # print(net_working_capital)\n",
        "  diff_nwc = np.zeros(num_years+1)\n",
        "\n",
        "  diff_nwc[1:] = -1*np.diff(net_working_capital)\n",
        "  # diff_nwc[num_years]=0\n",
        "  # print(diff_nwc)\n",
        "\n",
        "  df = add_data(df, net_working_capital, \"Net Working Capital\")\n",
        "\n",
        "  # Free Cash Flow\n",
        "  fcf = df.loc['EBIT'] + df.loc['Taxes'] - df.loc['Depreciation'] + df.loc['Capex'] + diff_nwc\n",
        "  df = add_data(df, fcf, \"Free Cash Flow\")\n",
        "\n",
        "  # Cost of Capital\n",
        "  # cost_of_capital = 2 #@param {type: \"slider\"}\n",
        "\n",
        "  # Discount Factor\n",
        "  discount_factor = np.ones(len(df.columns))\n",
        "  for i in range(1, len(discount_factor)):\n",
        "    discount_factor[i] = discount_factor[i-1] * (1 - (cost_of_capital/100))\n",
        "\n",
        "  yearly_discount_factor = discount_factor\n",
        "  df = add_data(df, yearly_discount_factor, \"Discount Rate\")\n",
        "  # PV\n",
        "  pv = df.loc['Free Cash Flow'] * df.loc['Discount Rate']\n",
        "  df = add_data(df, pv, \"Present Value\")\n",
        "\n",
        "  # NPV\n",
        "  npv = np.sum(df.loc['Present Value'])\n",
        "  # print(f\"NPV: {npv}\")\n",
        "\n",
        "  return (df,npv)\n",
        "\n",
        "\n",
        "  # # Plotting Results\n",
        "  # xvals = np.linspace(0, num_years-1, num_years)\n",
        "  # plt.figure(figsize=(10,8))\n",
        "  # # plt.plot(xvals, df.iloc[-1])\n",
        "  # ax = plt.gca()\n",
        "  # ax.grid('on')\n",
        "  # ax.set_xticks(xvals)\n",
        "  # ax.set_xticklabels(list_names)\n",
        "\n",
        "  # plt.title(\"Netphone NPV Calculations\")\n",
        "  # plt.legend([\"Sales\"])\n",
        "  # print(df)"
      ],
      "metadata": {
        "cellView": "form",
        "id": "-6TLLVbgI_Yu"
      },
      "execution_count": null,
      "outputs": []
    },
    {
      "cell_type": "code",
      "source": [
        "#@title Check NPV calculations { run: \"auto\" }\n",
        "final_market_penetration = 21 #@param {type:\"slider\"}\n",
        "cost_of_capital = 2 #@param {type:\"slider\"}\n",
        "(df,npv) = fcn_get_npv(cost_of_capital=cost_of_capital,\n",
        "                       final_market_penetration=final_market_penetration)\n",
        "# print(df)\n",
        "print(f\"Default NPV is:{npv:.2f} Million\")"
      ],
      "metadata": {
        "id": "DVIKD6mIJX-E",
        "colab": {
          "base_uri": "https://localhost:8080/"
        },
        "outputId": "bc73e671-e040-4f0c-c53a-5379542b9461",
        "cellView": "form"
      },
      "execution_count": null,
      "outputs": [
        {
          "output_type": "stream",
          "name": "stdout",
          "text": [
            "Default NPV is:35.92 Million\n"
          ]
        }
      ]
    },
    {
      "cell_type": "markdown",
      "source": [
        "**What is the effect of changing Cost of Capital on the NPV of the NetPhone Project?**"
      ],
      "metadata": {
        "id": "20zOHFx7GtsG"
      }
    },
    {
      "cell_type": "code",
      "source": [
        "#@title\n",
        "array_npv = []\n",
        "array_coc = []\n",
        "for coc in range(0,35,1):\n",
        "  (df,npv) = fcn_get_npv(cost_of_capital=coc)\n",
        "  array_npv.append(npv)\n",
        "  array_coc.append(coc)\n",
        "\n",
        "# Find the 0 value\n",
        "# Interpolation object\n",
        "f = interpolate.interp1d(array_npv, array_coc, assume_sorted = False)\n",
        "zero_npv_coc = f(0)   # use interpolation function returned by `interp1d`\n",
        "print(f\"NPV turns 0 at a Cost of Capital of: {zero_npv_coc:.2f}%\")\n",
        "\n",
        "# Plotting Results\n",
        "plt.figure(figsize=(10,8))\n",
        "plt.plot(array_coc, array_npv)\n",
        "\n",
        "ax = plt.gca()\n",
        "ax.grid('on')\n",
        "# plt.hold('on')\n",
        "\n",
        "ax.set_xticks(array_coc)\n",
        "ax.set_xticklabels(array_coc)\n",
        "\n",
        "#plot zero point where NPV turns 0\n",
        "plt.plot(zero_npv_coc, 0, 'rx',markersize=10);\n",
        "plt.xlabel('Cost of Capital %')\n",
        "plt.ylabel('NPV in Millions')\n",
        "plt.title(\"NPV vs Cost of Capital Calculations\")\n",
        "# plt.legend([\"Sales\"])\n",
        "\n"
      ],
      "metadata": {
        "colab": {
          "base_uri": "https://localhost:8080/",
          "height": 548
        },
        "cellView": "form",
        "id": "kRAmB_xA7dx6",
        "outputId": "3a22915f-b9fe-4dec-b57d-a005aecfb2b4"
      },
      "execution_count": null,
      "outputs": [
        {
          "output_type": "stream",
          "name": "stdout",
          "text": [
            "NPV turns 0 at a Cost of Capital of: 24.28%\n"
          ]
        },
        {
          "output_type": "execute_result",
          "data": {
            "text/plain": [
              "Text(0.5, 1.0, 'NPV vs Cost of Capital Calculations')"
            ]
          },
          "metadata": {},
          "execution_count": 14
        },
        {
          "output_type": "display_data",
          "data": {
            "text/plain": [
              "<Figure size 720x576 with 1 Axes>"
            ],
            "image/png": "[encoded data removed]"
          },
          "metadata": {
            "needs_background": "light"
          }
        }
      ]
    },
    {
      "cell_type": "markdown",
      "source": [
        "**What is the effect of change in market penetration rate to the NPV of NetPhone project?**"
      ],
      "metadata": {
        "id": "vdpMze0nGsGB"
      }
    },
    {
      "cell_type": "code",
      "source": [
        "#@title\n",
        "# Effect of Market Penetration\n",
        "array_out = []\n",
        "array_in = []\n",
        "for fmp in range(2,30,1):\n",
        "  (df,npv) = fcn_get_npv(final_market_penetration =fmp)\n",
        "  array_out.append(npv)\n",
        "  array_in.append(fmp)\n",
        "\n",
        "# Find the 0 value\n",
        "f = interpolate.interp1d(array_out, array_in, assume_sorted = False)\n",
        "zero_npv_fmp = f(0.0) # X vals have to be mono increasing\n",
        "print(f\"NPV turns 0 at a Market Penetration of: {zero_npv_fmp:.2f}%\")\n",
        "# print(zero_npv_fmp)\n",
        "\n",
        "# Plotting Results\n",
        "# xvals = np.linspace(0, num_years-1, num_years)\n",
        "plt.figure(figsize=(10,8))\n",
        "plt.plot(array_in, array_out)\n",
        "ax = plt.gca()\n",
        "ax.grid('on')\n",
        "ax.set_xticks(array_in)\n",
        "ax.set_xticklabels(array_in)\n",
        "\n",
        "#plot zero point where NPV turns 0\n",
        "plt.plot(zero_npv_fmp, 0, 'rx',markersize=10);\n",
        "plt.xlabel('Final Market Penetration %')\n",
        "plt.ylabel('NPV in Millions')\n",
        "plt.title(\" NPV vs Final Market Penetration %\")\n",
        "# plt.legend([\"Sales\"])"
      ],
      "metadata": {
        "colab": {
          "base_uri": "https://localhost:8080/",
          "height": 548
        },
        "cellView": "form",
        "id": "rMonv1MNVTc5",
        "outputId": "d3d5882f-7f08-46e3-ab35-e0fccd67dcf4"
      },
      "execution_count": null,
      "outputs": [
        {
          "output_type": "stream",
          "name": "stdout",
          "text": [
            "NPV turns 0 at a Market Penetration of: 9.88%\n"
          ]
        },
        {
          "output_type": "execute_result",
          "data": {
            "text/plain": [
              "Text(0.5, 1.0, ' NPV vs Final Market Penetration %')"
            ]
          },
          "metadata": {},
          "execution_count": 15
        },
        {
          "output_type": "display_data",
          "data": {
            "text/plain": [
              "<Figure size 720x576 with 1 Axes>"
            ],
            "image/png": "[encoded data removed]"
          },
          "metadata": {
            "needs_background": "light"
          }
        }
      ]
    }
  ]
}